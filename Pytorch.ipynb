{
  "nbformat": 4,
  "nbformat_minor": 0,
  "metadata": {
    "colab": {
      "provenance": [],
      "authorship_tag": "ABX9TyPUqP4wLsh4gwPfMlQrkxog",
      "include_colab_link": true
    },
    "kernelspec": {
      "name": "python3",
      "display_name": "Python 3"
    },
    "language_info": {
      "name": "python"
    }
  },
  "cells": [
    {
      "cell_type": "markdown",
      "metadata": {
        "id": "view-in-github",
        "colab_type": "text"
      },
      "source": [
        "<a href=\"https://colab.research.google.com/github/ChintPatel/CMPE258-HW3/blob/main/Pytorch.ipynb\" target=\"_parent\"><img src=\"https://colab.research.google.com/assets/colab-badge.svg\" alt=\"Open In Colab\"/></a>"
      ]
    },
    {
      "cell_type": "code",
      "execution_count": 4,
      "metadata": {
        "colab": {
          "base_uri": "https://localhost:8080/"
        },
        "id": "9Aynf3DKlqNO",
        "outputId": "1f8b0ced-b809-4289-a603-67586b5cf944"
      },
      "outputs": [
        {
          "output_type": "stream",
          "name": "stdout",
          "text": [
            "Sum Tensor: tensor([4., 6., 8.])\n",
            "Product Tensor: tensor([ 4.,  9., 16.])\n",
            "Reshaped Tensor: tensor([[1., 2., 3.],\n",
            "        [4., 5., 6.]])\n",
            "Transposed Tensor: tensor([[1., 3., 5.],\n",
            "        [2., 4., 6.]])\n",
            "Inverse Tensor: tensor([[ 0.8000, -0.6000],\n",
            "        [-0.2000,  0.4000]])\n",
            "Determinant Tensor: tensor(5.)\n",
            "Trace Tensor: tensor(5.)\n",
            "Norm Tensor: tensor(5.3852)\n",
            "Singular Values: tensor([9.5255, 0.5143])\n",
            "Matrix Multiplication (Einsum): tensor([[19, 22],\n",
            "        [43, 50]])\n",
            "Summation (Einsum): tensor([3, 7])\n",
            "Dot Product (Einsum): tensor(29.)\n",
            "Outer Product (Einsum): tensor([[ 4.,  6.,  8.],\n",
            "        [ 6.,  9., 12.],\n",
            "        [ 8., 12., 16.]])\n"
          ]
        }
      ],
      "source": [
        "import torch\n",
        "\n",
        "# Creating tensors of different ranks\n",
        "rank_0_tensor = torch.tensor(4)\n",
        "rank_1_tensor = torch.tensor([2.0, 3.0, 4.0])\n",
        "rank_2_tensor = torch.tensor([[1, 2], [3, 4], [5, 6]], dtype=torch.float32)\n",
        "rank_3_tensor = torch.tensor([\n",
        "  [[0, 1, 2, 3, 4], [5, 6, 7, 8, 9]],\n",
        "  [[10, 11, 12, 13, 14], [15, 16, 17, 18, 19]],\n",
        "  [[20, 21, 22, 23, 24], [25, 26, 27, 28, 29]]\n",
        "])\n",
        "\n",
        "# Basic tensor operations\n",
        "sum_tensor = rank_1_tensor + rank_1_tensor\n",
        "product_tensor = rank_1_tensor * rank_1_tensor\n",
        "reshape_tensor = rank_2_tensor.reshape(2, 3)\n",
        "transpose_tensor = rank_2_tensor.T\n",
        "\n",
        "# Advanced tensor operations\n",
        "inverse_tensor = torch.inverse(torch.tensor([[2.0, 3.0], [1.0, 4.0]]))\n",
        "determinant_tensor = torch.det(torch.tensor([[2.0, 3.0], [1.0, 4.0]]))\n",
        "trace_tensor = torch.trace(rank_2_tensor)\n",
        "norm_tensor = torch.norm(rank_1_tensor)\n",
        "singular_values = torch.svd(rank_2_tensor).S\n",
        "\n",
        "# Einstein summation (einsum) in PyTorch\n",
        "A = torch.tensor([[1, 2], [3, 4]])\n",
        "B = torch.tensor([[5, 6], [7, 8]])\n",
        "\n",
        "# Matrix multiplication using einsum\n",
        "einsum_matmul = torch.einsum('ij,jk->ik', A, B)\n",
        "\n",
        "# Summation along an axis\n",
        "einsum_sum = torch.einsum('ij->i', A)  # Summing along rows\n",
        "\n",
        "# Dot product\n",
        "einsum_dot = torch.einsum('i,i->', rank_1_tensor, rank_1_tensor)\n",
        "\n",
        "# Outer product\n",
        "einsum_outer = torch.einsum('i,j->ij', rank_1_tensor, rank_1_tensor)\n",
        "\n",
        "# Displaying results\n",
        "print(\"Sum Tensor:\", sum_tensor)\n",
        "print(\"Product Tensor:\", product_tensor)\n",
        "print(\"Reshaped Tensor:\", reshape_tensor)\n",
        "print(\"Transposed Tensor:\", transpose_tensor)\n",
        "print(\"Inverse Tensor:\", inverse_tensor)\n",
        "print(\"Determinant Tensor:\", determinant_tensor)\n",
        "print(\"Trace Tensor:\", trace_tensor)\n",
        "print(\"Norm Tensor:\", norm_tensor)\n",
        "print(\"Singular Values:\", singular_values)\n",
        "print(\"Matrix Multiplication (Einsum):\", einsum_matmul)\n",
        "print(\"Summation (Einsum):\", einsum_sum)\n",
        "print(\"Dot Product (Einsum):\", einsum_dot)\n",
        "print(\"Outer Product (Einsum):\", einsum_outer)\n"
      ]
    }
  ]
}